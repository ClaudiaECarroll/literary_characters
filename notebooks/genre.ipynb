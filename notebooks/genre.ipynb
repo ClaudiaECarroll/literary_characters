{
 "cells": [
  {
   "cell_type": "code",
   "execution_count": 36,
   "id": "f243d87f",
   "metadata": {},
   "outputs": [],
   "source": [
    "import pandas as pd\n",
    "import matplotlib as plt\n",
    "import seaborn as sns\n",
    "from scipy.stats import ttest_ind\n",
    "from statistics import mean, stdev\n",
    "from math import sqrt"
   ]
  },
  {
   "cell_type": "code",
   "execution_count": 37,
   "id": "2e8c59aa",
   "metadata": {},
   "outputs": [],
   "source": [
    "genre = pd.read_excel(\"(Graphs 2-4) experiment3 - realist vs non-realist novels.xlsx\")"
   ]
  },
  {
   "cell_type": "code",
   "execution_count": 38,
   "id": "07277a1f",
   "metadata": {},
   "outputs": [
    {
     "data": {
      "text/html": [
       "<div>\n",
       "<style scoped>\n",
       "    .dataframe tbody tr th:only-of-type {\n",
       "        vertical-align: middle;\n",
       "    }\n",
       "\n",
       "    .dataframe tbody tr th {\n",
       "        vertical-align: top;\n",
       "    }\n",
       "\n",
       "    .dataframe thead th {\n",
       "        text-align: right;\n",
       "    }\n",
       "</style>\n",
       "<table border=\"1\" class=\"dataframe\">\n",
       "  <thead>\n",
       "    <tr style=\"text-align: right;\">\n",
       "      <th></th>\n",
       "      <th>filename</th>\n",
       "      <th>year</th>\n",
       "      <th>word_count</th>\n",
       "      <th>behaviour</th>\n",
       "      <th>TR</th>\n",
       "      <th>Behavior</th>\n",
       "      <th>Mental Contents</th>\n",
       "      <th>%behaviour</th>\n",
       "      <th>%TR</th>\n",
       "      <th>realist</th>\n",
       "      <th>Unnamed: 10</th>\n",
       "    </tr>\n",
       "  </thead>\n",
       "  <tbody>\n",
       "    <tr>\n",
       "      <th>0</th>\n",
       "      <td>austen-sense-1811.txt</td>\n",
       "      <td>1811.0</td>\n",
       "      <td>120983.0</td>\n",
       "      <td>2051.0</td>\n",
       "      <td>1073.0</td>\n",
       "      <td>0.656530</td>\n",
       "      <td>0.343470</td>\n",
       "      <td>1.695280</td>\n",
       "      <td>0.886901</td>\n",
       "      <td>Realist</td>\n",
       "      <td>NaN</td>\n",
       "    </tr>\n",
       "    <tr>\n",
       "      <th>1</th>\n",
       "      <td>austen-pride-1813.txt</td>\n",
       "      <td>1813.0</td>\n",
       "      <td>123096.0</td>\n",
       "      <td>2289.0</td>\n",
       "      <td>1030.0</td>\n",
       "      <td>0.689666</td>\n",
       "      <td>0.310334</td>\n",
       "      <td>1.859524</td>\n",
       "      <td>0.836745</td>\n",
       "      <td>Realist</td>\n",
       "      <td>NaN</td>\n",
       "    </tr>\n",
       "    <tr>\n",
       "      <th>2</th>\n",
       "      <td>austen-mansfield-1814.txt</td>\n",
       "      <td>1814.0</td>\n",
       "      <td>161071.0</td>\n",
       "      <td>2975.0</td>\n",
       "      <td>1303.0</td>\n",
       "      <td>0.695418</td>\n",
       "      <td>0.304582</td>\n",
       "      <td>1.847012</td>\n",
       "      <td>0.808960</td>\n",
       "      <td>Realist</td>\n",
       "      <td>NaN</td>\n",
       "    </tr>\n",
       "    <tr>\n",
       "      <th>3</th>\n",
       "      <td>austen-emma-1815.txt</td>\n",
       "      <td>1815.0</td>\n",
       "      <td>155673.0</td>\n",
       "      <td>2866.0</td>\n",
       "      <td>1242.0</td>\n",
       "      <td>0.697663</td>\n",
       "      <td>0.302337</td>\n",
       "      <td>1.841039</td>\n",
       "      <td>0.797826</td>\n",
       "      <td>Realist</td>\n",
       "      <td>NaN</td>\n",
       "    </tr>\n",
       "    <tr>\n",
       "      <th>4</th>\n",
       "      <td>austen-northanger-1818.txt</td>\n",
       "      <td>1818.0</td>\n",
       "      <td>79514.0</td>\n",
       "      <td>1451.0</td>\n",
       "      <td>612.0</td>\n",
       "      <td>0.703345</td>\n",
       "      <td>0.296655</td>\n",
       "      <td>1.824836</td>\n",
       "      <td>0.769676</td>\n",
       "      <td>Realist</td>\n",
       "      <td>NaN</td>\n",
       "    </tr>\n",
       "  </tbody>\n",
       "</table>\n",
       "</div>"
      ],
      "text/plain": [
       "                     filename    year  word_count  behaviour      TR  \\\n",
       "0       austen-sense-1811.txt  1811.0    120983.0     2051.0  1073.0   \n",
       "1       austen-pride-1813.txt  1813.0    123096.0     2289.0  1030.0   \n",
       "2   austen-mansfield-1814.txt  1814.0    161071.0     2975.0  1303.0   \n",
       "3        austen-emma-1815.txt  1815.0    155673.0     2866.0  1242.0   \n",
       "4  austen-northanger-1818.txt  1818.0     79514.0     1451.0   612.0   \n",
       "\n",
       "   Behavior  Mental Contents  %behaviour       %TR  realist Unnamed: 10  \n",
       "0  0.656530         0.343470    1.695280  0.886901  Realist         NaN  \n",
       "1  0.689666         0.310334    1.859524  0.836745  Realist         NaN  \n",
       "2  0.695418         0.304582    1.847012  0.808960  Realist         NaN  \n",
       "3  0.697663         0.302337    1.841039  0.797826  Realist         NaN  \n",
       "4  0.703345         0.296655    1.824836  0.769676  Realist         NaN  "
      ]
     },
     "execution_count": 38,
     "metadata": {},
     "output_type": "execute_result"
    }
   ],
   "source": [
    "genre.head()"
   ]
  },
  {
   "cell_type": "code",
   "execution_count": 39,
   "id": "cc041d8a",
   "metadata": {},
   "outputs": [],
   "source": [
    "group1 = genre[genre['realist']=='Realist']\n",
    "group2 = genre[genre['realist']=='Non-Realist']"
   ]
  },
  {
   "cell_type": "code",
   "execution_count": 40,
   "id": "805c7b6f",
   "metadata": {},
   "outputs": [
    {
     "name": "stdout",
     "output_type": "stream",
     "text": [
      "                       filename    year  word_count  behaviour      TR  \\\n",
      "99    peacock-headlong-1815.txt  1815.0     27096.0      334.0   175.0   \n",
      "100  peacock-nightmare-1818.txt  1818.0     26110.0      391.0   183.0   \n",
      "101     peacock-marian-1822.txt  1822.0     35495.0      520.0   155.0   \n",
      "102   shelley-valperga-1823.txt  1823.0    156341.0     2349.0  1117.0   \n",
      "103       marryat-king-1830.txt  1830.0    149610.0     2465.0   775.0   \n",
      "..                          ...     ...         ...        ...     ...   \n",
      "200   macdonald-salted-1896.txt  1896.0     68611.0     1312.0   417.0   \n",
      "201       wells-wheels-1896.txt  1896.0     54831.0      863.0   329.0   \n",
      "202    wells-invisible-1897.txt  1897.0     47554.0      752.0   295.0   \n",
      "203         wells-love-1899.txt  1899.0     64440.0      983.0   416.0   \n",
      "204      wells-sleeper-1899.txt  1899.0     75130.0     1065.0   351.0   \n",
      "\n",
      "     Behavior  Mental Contents  %behaviour       %TR      realist Unnamed: 10  \n",
      "99   0.656189         0.343811    1.232654  0.645852  Non-Realist         NaN  \n",
      "100  0.681185         0.318815    1.497511  0.700881  Non-Realist         NaN  \n",
      "101  0.770370         0.229630    1.464995  0.436681  Non-Realist         NaN  \n",
      "102  0.677726         0.322274    1.502485  0.714464  Non-Realist         NaN  \n",
      "103  0.760802         0.239198    1.647617  0.518014  Non-Realist         NaN  \n",
      "..        ...              ...         ...       ...          ...         ...  \n",
      "200  0.758820         0.241180    1.912230  0.607774  Non-Realist         NaN  \n",
      "201  0.723993         0.276007    1.573927  0.600026  Non-Realist         NaN  \n",
      "202  0.718243         0.281757    1.581360  0.620347  Non-Realist         NaN  \n",
      "203  0.702645         0.297355    1.525450  0.645562  Non-Realist         NaN  \n",
      "204  0.752119         0.247881    1.417543  0.467190  Non-Realist         NaN  \n",
      "\n",
      "[106 rows x 11 columns]\n"
     ]
    }
   ],
   "source": [
    "print(group2)"
   ]
  },
  {
   "cell_type": "code",
   "execution_count": 53,
   "id": "45ca27c3",
   "metadata": {},
   "outputs": [],
   "source": [
    "def independent_2_ttest(x,y):\n",
    "    print(\"Statistic is: \" + str(ttest_ind(x, y)[0]))\n",
    "    print(\"P-value is: \" + str(ttest_ind(x, y)[1]))\n",
    "    cohens_d = (mean(x) - mean(y)) / (sqrt((stdev(x) ** 2 + stdev(y) ** 2) / 2))\n",
    "    print(\"Effect size: \" + str(cohens_d))\n",
    "    "
   ]
  },
  {
   "cell_type": "code",
   "execution_count": 54,
   "id": "6487a516",
   "metadata": {},
   "outputs": [
    {
     "name": "stdout",
     "output_type": "stream",
     "text": [
      "Statistic is: 4.316260066071339\n",
      "P-value is: 2.4840950343607075e-05\n",
      "Effect size: 0.6074194460611663\n"
     ]
    }
   ],
   "source": [
    "#significance and effect size test for percentage of behavior description\n",
    "\n",
    "R_beh_percen = group1[\"%behaviour\"]\n",
    "nonR_beh_percen = nonrealist_percent_sample = group2[\"%behaviour\"]\n",
    "\n",
    "independent_2_ttest(R_beh_percen, nonR_beh_percen)\n"
   ]
  },
  {
   "cell_type": "code",
   "execution_count": 55,
   "id": "61daaca3",
   "metadata": {},
   "outputs": [
    {
     "name": "stdout",
     "output_type": "stream",
     "text": [
      "Statistic is: 4.581454276217065\n",
      "P-value is: 8.073621501856678e-06\n",
      "Effect size: 0.6446382534213433\n"
     ]
    }
   ],
   "source": [
    "#significance test and effect size for percentage of mental content description\n",
    "    \n",
    "R_men_percen = group1['%TR'] \n",
    "nonR_men_percen = group2['%TR']\n",
    "          \n",
    "independent_2_ttest(R_men_percen, nonR_men_percen)"
   ]
  },
  {
   "cell_type": "code",
   "execution_count": 58,
   "id": "9d560c75",
   "metadata": {},
   "outputs": [
    {
     "name": "stdout",
     "output_type": "stream",
     "text": [
      "Statistic is: -2.2408968523287154\n",
      "P-value is: 0.026121181127437065\n",
      "Effect size: -0.3174646736547501\n"
     ]
    }
   ],
   "source": [
    "#significance test for ratio of behavior to mental content description\n",
    "\n",
    "R_beh_ratio = group1['Behavior']\n",
    "nonR_beh_ratio = group2['Behavior']\n",
    "\n",
    "independent_2_ttest(R_beh_ratio, nonR_beh_ratio)"
   ]
  },
  {
   "cell_type": "code",
   "execution_count": 20,
   "id": "66c21cab",
   "metadata": {},
   "outputs": [],
   "source": [
    "#Summary\n",
    "#Differences observed in percentage of behavior description, percentage of mental content description, and ratio of behavior to mental content, comparing realist to non-realist novels, are all statistically significant\n",
    "#difference in ratio of mental content to behavior descriptions, comparing realist to non-realist novels shows low-medium effect size of 0.32.\n",
    "#difference in both percentage of behavior and percentage of mental contents, comparing realist to non-realist novels, is large, about 0.6"
   ]
  },
  {
   "cell_type": "code",
   "execution_count": 21,
   "id": "83025d3b",
   "metadata": {},
   "outputs": [],
   "source": [
    "\n",
    "#Below are tests assessing changes across time in realist and non-realist novels\n"
   ]
  },
  {
   "cell_type": "code",
   "execution_count": 22,
   "id": "9d74c956",
   "metadata": {},
   "outputs": [],
   "source": [
    "def linear_correlation(x,y):\n",
    "    from scipy.stats.stats import pearsonr\n",
    "    print(\"Correlation coefficient (R) is: \" + str((pearsonr(x,y)[0])))\n",
    "    print(\"P-value is: \" + str((pearsonr(x,y)[1])))\n",
    "    print(\"R2 is: \" + str((pearsonr(x,y)[0]) ** 2))"
   ]
  },
  {
   "cell_type": "code",
   "execution_count": 23,
   "id": "f20bf1ef",
   "metadata": {},
   "outputs": [
    {
     "name": "stdout",
     "output_type": "stream",
     "text": [
      "Correlation coefficient (R) is: 0.25787949736914983\n",
      "P-value is: 0.010358136979691348\n",
      "R2 is: 0.06650183516336536\n"
     ]
    }
   ],
   "source": [
    "#measure correlation of change in PERCENTAGE of BEHAVIOR description to publication year for REALIST novels\n",
    "x = group1[\"year\"]\n",
    "y = group1[\"%behaviour\"]\n",
    "\n",
    "linear_correlation(x,y)"
   ]
  },
  {
   "cell_type": "code",
   "execution_count": 24,
   "id": "5128730a",
   "metadata": {},
   "outputs": [
    {
     "name": "stdout",
     "output_type": "stream",
     "text": [
      "Correlation coefficient (R) is: 0.2154263070414589\n",
      "P-value is: 0.026571190926120213\n",
      "R2 is: 0.046408493765520926\n"
     ]
    }
   ],
   "source": [
    "#measure correlation of change in PERCENTAGE of BEHAVIOR description to publication year for NON-REALIST novels\n",
    "x = group2[\"year\"]\n",
    "y = group2[\"%behaviour\"]\n",
    "\n",
    "linear_correlation(x,y)"
   ]
  },
  {
   "cell_type": "code",
   "execution_count": 25,
   "id": "19f8a986",
   "metadata": {},
   "outputs": [
    {
     "name": "stdout",
     "output_type": "stream",
     "text": [
      "Correlation coefficient (R) is: -0.03715864744522353\n",
      "P-value is: 0.716412474708635\n",
      "R2 is: 0.001380765079958417\n"
     ]
    }
   ],
   "source": [
    "#measure correlation of change in PERCENTAGE of MENTAL CONTENT description to publication year for REALIST novels\n",
    "x = group1[\"year\"]\n",
    "y = group1[\"%TR\"]\n",
    "\n",
    "linear_correlation(x,y)"
   ]
  },
  {
   "cell_type": "code",
   "execution_count": 26,
   "id": "8879c5c1",
   "metadata": {},
   "outputs": [
    {
     "name": "stdout",
     "output_type": "stream",
     "text": [
      "Correlation coefficient (R) is: 0.17115093875497295\n",
      "P-value is: 0.0793994197302309\n",
      "R2 is: 0.0292926438367085\n"
     ]
    }
   ],
   "source": [
    "#measure correlation of change in PERCENTAGE of MENTAL CONTENT description to publication year for NON-REALIST novels\n",
    "x = group2[\"year\"]\n",
    "y = group2[\"%TR\"]\n",
    "\n",
    "linear_correlation(x,y)"
   ]
  },
  {
   "cell_type": "code",
   "execution_count": 27,
   "id": "8147807a",
   "metadata": {},
   "outputs": [
    {
     "name": "stdout",
     "output_type": "stream",
     "text": [
      "Correlation coefficient (R) is: 0.24053793934335194\n",
      "P-value is: 0.01704235030552402\n",
      "R2 is: 0.05785850026354605\n"
     ]
    }
   ],
   "source": [
    "#measure correlation of change in RATIO of behavior to mental content description to publication year for REALIST novels\n",
    "x = group1[\"year\"]\n",
    "y = group1[\"Behavior\"]\n",
    "\n",
    "linear_correlation(x,y)"
   ]
  },
  {
   "cell_type": "code",
   "execution_count": 28,
   "id": "de073c13",
   "metadata": {},
   "outputs": [
    {
     "name": "stdout",
     "output_type": "stream",
     "text": [
      "Correlation coefficient (R) is: -0.048163586522596946\n",
      "P-value is: 0.6239360499010584\n",
      "R2 is: 0.002319731066719682\n"
     ]
    }
   ],
   "source": [
    "#measure correlation of change in RATIO of behavior to mental content description to publication year for NON-REALIST novels\n",
    "x = group2[\"year\"]\n",
    "y = group2[\"Behavior\"]\n",
    "\n",
    "linear_correlation(x,y)"
   ]
  },
  {
   "cell_type": "code",
   "execution_count": null,
   "id": "164161e3",
   "metadata": {},
   "outputs": [],
   "source": []
  }
 ],
 "metadata": {
  "kernelspec": {
   "display_name": "Python 3 (ipykernel)",
   "language": "python",
   "name": "python3"
  },
  "language_info": {
   "codemirror_mode": {
    "name": "ipython",
    "version": 3
   },
   "file_extension": ".py",
   "mimetype": "text/x-python",
   "name": "python",
   "nbconvert_exporter": "python",
   "pygments_lexer": "ipython3",
   "version": "3.9.7"
  }
 },
 "nbformat": 4,
 "nbformat_minor": 5
}
