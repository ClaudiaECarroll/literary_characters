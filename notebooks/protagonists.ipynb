{
 "cells": [
  {
   "cell_type": "code",
   "execution_count": 10,
   "id": "9ceafa40",
   "metadata": {},
   "outputs": [],
   "source": [
    "import pandas as pd\n",
    "import matplotlib as plt\n",
    "import seaborn as sns\n",
    "from scipy.stats import ttest_ind\n",
    "from statistics import mean, stdev\n",
    "from math import sqrt"
   ]
  },
  {
   "cell_type": "code",
   "execution_count": 3,
   "id": "f402a7cc",
   "metadata": {},
   "outputs": [],
   "source": [
    "protag = pd.read_excel(\"(Graph 5) protag_averages.xlsx\")"
   ]
  },
  {
   "cell_type": "code",
   "execution_count": 4,
   "id": "8d45dbfc",
   "metadata": {},
   "outputs": [
    {
     "data": {
      "text/html": [
       "<div>\n",
       "<style scoped>\n",
       "    .dataframe tbody tr th:only-of-type {\n",
       "        vertical-align: middle;\n",
       "    }\n",
       "\n",
       "    .dataframe tbody tr th {\n",
       "        vertical-align: top;\n",
       "    }\n",
       "\n",
       "    .dataframe thead th {\n",
       "        text-align: right;\n",
       "    }\n",
       "</style>\n",
       "<table border=\"1\" class=\"dataframe\">\n",
       "  <thead>\n",
       "    <tr style=\"text-align: right;\">\n",
       "      <th></th>\n",
       "      <th>filename</th>\n",
       "      <th>pub-year</th>\n",
       "      <th>pub-decade</th>\n",
       "      <th>realist</th>\n",
       "      <th>word_count</th>\n",
       "      <th>wordcount_nostops</th>\n",
       "      <th>speech size</th>\n",
       "      <th>char_words</th>\n",
       "      <th>necessary count</th>\n",
       "      <th>unnecessary count</th>\n",
       "      <th>behavior_ratio</th>\n",
       "      <th>mental_ratio</th>\n",
       "      <th>behavior/total</th>\n",
       "      <th>mental/total</th>\n",
       "      <th>behavior/char</th>\n",
       "      <th>mental/char</th>\n",
       "      <th>Unnamed: 16</th>\n",
       "      <th>Unnamed: 17</th>\n",
       "    </tr>\n",
       "  </thead>\n",
       "  <tbody>\n",
       "    <tr>\n",
       "      <th>0</th>\n",
       "      <td>edgeworth-belinda-1801</td>\n",
       "      <td>1801.0</td>\n",
       "      <td>1800-1809</td>\n",
       "      <td>Realist</td>\n",
       "      <td>176143.0</td>\n",
       "      <td>90233.0</td>\n",
       "      <td>3984.0</td>\n",
       "      <td>1947.0</td>\n",
       "      <td>214.0</td>\n",
       "      <td>251.0</td>\n",
       "      <td>0.460215</td>\n",
       "      <td>0.539785</td>\n",
       "      <td>0.237164</td>\n",
       "      <td>0.278169</td>\n",
       "      <td>10.991269</td>\n",
       "      <td>12.891628</td>\n",
       "      <td>NaN</td>\n",
       "      <td>NaN</td>\n",
       "    </tr>\n",
       "    <tr>\n",
       "      <th>1</th>\n",
       "      <td>austen-sense-1811</td>\n",
       "      <td>1811.0</td>\n",
       "      <td>1810-1819</td>\n",
       "      <td>Realist</td>\n",
       "      <td>120983.0</td>\n",
       "      <td>57549.0</td>\n",
       "      <td>5363.0</td>\n",
       "      <td>1786.0</td>\n",
       "      <td>229.0</td>\n",
       "      <td>324.0</td>\n",
       "      <td>0.414105</td>\n",
       "      <td>0.585895</td>\n",
       "      <td>0.397922</td>\n",
       "      <td>0.562998</td>\n",
       "      <td>12.821948</td>\n",
       "      <td>18.141097</td>\n",
       "      <td>NaN</td>\n",
       "      <td>NaN</td>\n",
       "    </tr>\n",
       "    <tr>\n",
       "      <th>2</th>\n",
       "      <td>edgeworth-fashionable-1812</td>\n",
       "      <td>1812.0</td>\n",
       "      <td>1810-1819</td>\n",
       "      <td>Realist</td>\n",
       "      <td>171500.0</td>\n",
       "      <td>84921.0</td>\n",
       "      <td>2662.0</td>\n",
       "      <td>1199.0</td>\n",
       "      <td>106.0</td>\n",
       "      <td>183.0</td>\n",
       "      <td>0.366782</td>\n",
       "      <td>0.633218</td>\n",
       "      <td>0.124822</td>\n",
       "      <td>0.215494</td>\n",
       "      <td>8.840701</td>\n",
       "      <td>15.262719</td>\n",
       "      <td>NaN</td>\n",
       "      <td>NaN</td>\n",
       "    </tr>\n",
       "    <tr>\n",
       "      <th>3</th>\n",
       "      <td>austen-pride-1813</td>\n",
       "      <td>1813.0</td>\n",
       "      <td>1810-1819</td>\n",
       "      <td>Realist</td>\n",
       "      <td>123096.0</td>\n",
       "      <td>59059.0</td>\n",
       "      <td>5276.0</td>\n",
       "      <td>2214.0</td>\n",
       "      <td>308.0</td>\n",
       "      <td>388.0</td>\n",
       "      <td>0.442529</td>\n",
       "      <td>0.557471</td>\n",
       "      <td>0.521512</td>\n",
       "      <td>0.65697</td>\n",
       "      <td>13.911472</td>\n",
       "      <td>17.524842</td>\n",
       "      <td>NaN</td>\n",
       "      <td>NaN</td>\n",
       "    </tr>\n",
       "    <tr>\n",
       "      <th>4</th>\n",
       "      <td>austen-mansfield-1814</td>\n",
       "      <td>1814.0</td>\n",
       "      <td>1810-1819</td>\n",
       "      <td>Realist</td>\n",
       "      <td>161071.0</td>\n",
       "      <td>76602.0</td>\n",
       "      <td>5920.0</td>\n",
       "      <td>3250.0</td>\n",
       "      <td>355.0</td>\n",
       "      <td>638.0</td>\n",
       "      <td>0.357503</td>\n",
       "      <td>0.642497</td>\n",
       "      <td>0.463434</td>\n",
       "      <td>0.832876</td>\n",
       "      <td>10.923077</td>\n",
       "      <td>19.630769</td>\n",
       "      <td>NaN</td>\n",
       "      <td>0.000008</td>\n",
       "    </tr>\n",
       "  </tbody>\n",
       "</table>\n",
       "</div>"
      ],
      "text/plain": [
       "                     filename  pub-year pub-decade  realist  word_count  \\\n",
       "0      edgeworth-belinda-1801    1801.0  1800-1809  Realist    176143.0   \n",
       "1           austen-sense-1811    1811.0  1810-1819  Realist    120983.0   \n",
       "2  edgeworth-fashionable-1812    1812.0  1810-1819  Realist    171500.0   \n",
       "3           austen-pride-1813    1813.0  1810-1819  Realist    123096.0   \n",
       "4       austen-mansfield-1814    1814.0  1810-1819  Realist    161071.0   \n",
       "\n",
       "   wordcount_nostops  speech size  char_words  necessary count  \\\n",
       "0            90233.0       3984.0      1947.0            214.0   \n",
       "1            57549.0       5363.0      1786.0            229.0   \n",
       "2            84921.0       2662.0      1199.0            106.0   \n",
       "3            59059.0       5276.0      2214.0            308.0   \n",
       "4            76602.0       5920.0      3250.0            355.0   \n",
       "\n",
       "   unnecessary count behavior_ratio mental_ratio behavior/total mental/total  \\\n",
       "0              251.0       0.460215     0.539785       0.237164     0.278169   \n",
       "1              324.0       0.414105     0.585895       0.397922     0.562998   \n",
       "2              183.0       0.366782     0.633218       0.124822     0.215494   \n",
       "3              388.0       0.442529     0.557471       0.521512      0.65697   \n",
       "4              638.0       0.357503     0.642497       0.463434     0.832876   \n",
       "\n",
       "  behavior/char mental/char  Unnamed: 16  Unnamed: 17  \n",
       "0     10.991269   12.891628          NaN          NaN  \n",
       "1     12.821948   18.141097          NaN          NaN  \n",
       "2      8.840701   15.262719          NaN          NaN  \n",
       "3     13.911472   17.524842          NaN          NaN  \n",
       "4     10.923077   19.630769          NaN     0.000008  "
      ]
     },
     "execution_count": 4,
     "metadata": {},
     "output_type": "execute_result"
    }
   ],
   "source": [
    "protag.head()"
   ]
  },
  {
   "cell_type": "code",
   "execution_count": 5,
   "id": "2d9faf4b",
   "metadata": {},
   "outputs": [],
   "source": [
    "group1 = protag[protag['realist']=='Realist']\n",
    "group2 = protag[protag['realist']=='Non-realist']"
   ]
  },
  {
   "cell_type": "code",
   "execution_count": 6,
   "id": "40f83693",
   "metadata": {},
   "outputs": [
    {
     "name": "stdout",
     "output_type": "stream",
     "text": [
      "                      filename  pub-year pub-decade  realist  word_count  \\\n",
      "0       edgeworth-belinda-1801    1801.0  1800-1809  Realist    176143.0   \n",
      "1            austen-sense-1811    1811.0  1810-1819  Realist    120983.0   \n",
      "2   edgeworth-fashionable-1812    1812.0  1810-1819  Realist    171500.0   \n",
      "3            austen-pride-1813    1813.0  1810-1819  Realist    123096.0   \n",
      "4        austen-mansfield-1814    1814.0  1810-1819  Realist    161071.0   \n",
      "..                         ...       ...        ...      ...         ...   \n",
      "93           james-spoils-1897    1897.0  1890-1899  Realist     72815.0   \n",
      "94             james-what-1897    1897.0  1890-1899  Realist     97260.0   \n",
      "95           gissing-town-1898    1898.0  1890-1899  Realist     66587.0   \n",
      "96          gissing-crown-1899    1899.0  1890-1899  Realist    121415.0   \n",
      "97          james-awkward-1899    1899.0  1890-1899  Realist    139127.0   \n",
      "\n",
      "    wordcount_nostops  speech size  char_words  necessary count  \\\n",
      "0             90233.0       3984.0      1947.0            214.0   \n",
      "1             57549.0       5363.0      1786.0            229.0   \n",
      "2             84921.0       2662.0      1199.0            106.0   \n",
      "3             59059.0       5276.0      2214.0            308.0   \n",
      "4             76602.0       5920.0      3250.0            355.0   \n",
      "..                ...          ...         ...              ...   \n",
      "93            33789.0       3064.0      2515.0            337.0   \n",
      "94            46587.0       1703.0      1771.0            250.0   \n",
      "95            34209.0       1355.0      1055.0            147.0   \n",
      "96            63907.0       2033.0      1601.0            206.0   \n",
      "97            66351.0       3276.0      1458.0            283.0   \n",
      "\n",
      "    unnecessary count behavior_ratio mental_ratio behavior/total mental/total  \\\n",
      "0               251.0       0.460215     0.539785       0.237164     0.278169   \n",
      "1               324.0       0.414105     0.585895       0.397922     0.562998   \n",
      "2               183.0       0.366782     0.633218       0.124822     0.215494   \n",
      "3               388.0       0.442529     0.557471       0.521512      0.65697   \n",
      "4               638.0       0.357503     0.642497       0.463434     0.832876   \n",
      "..                ...            ...          ...            ...          ...   \n",
      "93              317.0       0.515291     0.484709       0.997366     0.938175   \n",
      "94              214.0       0.538793     0.461207        0.53663     0.459356   \n",
      "95               99.0       0.597561     0.402439       0.429711     0.289398   \n",
      "96              211.0       0.494005     0.505995       0.322343     0.330167   \n",
      "97              171.0       0.623348     0.376652        0.42652      0.25772   \n",
      "\n",
      "   behavior/char mental/char  Unnamed: 16  Unnamed: 17  \n",
      "0      10.991269   12.891628          NaN          NaN  \n",
      "1      12.821948   18.141097          NaN          NaN  \n",
      "2       8.840701   15.262719          NaN          NaN  \n",
      "3      13.911472   17.524842          NaN          NaN  \n",
      "4      10.923077   19.630769          NaN     0.000008  \n",
      "..           ...         ...          ...          ...  \n",
      "93     13.399602   12.604374          NaN          NaN  \n",
      "94     14.116318   12.083569          NaN          NaN  \n",
      "95     13.933649    9.383886          NaN          NaN  \n",
      "96     12.866958   13.179263          NaN          NaN  \n",
      "97     19.410151   11.728395          NaN          NaN  \n",
      "\n",
      "[98 rows x 18 columns]\n"
     ]
    }
   ],
   "source": [
    "print(group1)"
   ]
  },
  {
   "cell_type": "code",
   "execution_count": 7,
   "id": "b53dab7f",
   "metadata": {},
   "outputs": [],
   "source": [
    "def independent_2_ttest(x,y):\n",
    "    print(\"Statistic is: \" + str(ttest_ind(x, y)[0]))\n",
    "    print(\"P-value is: \" + str(ttest_ind(x, y)[1]))\n",
    "    cohens_d = (mean(x) - mean(y)) / (sqrt((stdev(x) ** 2 + stdev(y) ** 2) / 2))\n",
    "    print(\"Effect size: \" + str(cohens_d))"
   ]
  },
  {
   "cell_type": "code",
   "execution_count": 11,
   "id": "0c80bad5",
   "metadata": {},
   "outputs": [
    {
     "name": "stdout",
     "output_type": "stream",
     "text": [
      "Statistic is: -0.5939111440271561\n",
      "P-value is: 0.5533049829371297\n",
      "Effect size: -0.0876084846000643\n"
     ]
    }
   ],
   "source": [
    "#significance test for percentage of behavior description\n",
    "\n",
    "R_beh_percen = group1[\"behavior/total\"]\n",
    "nonR_beh_percen = nonrealist_percent_sample = group2[\"behavior/total\"]\n",
    "\n",
    "independent_2_ttest(R_beh_percen, nonR_beh_percen)\n"
   ]
  },
  {
   "cell_type": "code",
   "execution_count": 13,
   "id": "2b8c7752",
   "metadata": {},
   "outputs": [
    {
     "name": "stdout",
     "output_type": "stream",
     "text": [
      "Statistic is: 2.6012390503646787\n",
      "P-value is: 0.010048513251267465\n",
      "Effect size: 0.38732945965882803\n"
     ]
    }
   ],
   "source": [
    "#significance test for percentage of mental content description    \n",
    "R_men_percen = group1['mental/total']\n",
    "nonR_men_percen = group2['mental/total']\n",
    "\n",
    "independent_2_ttest(R_men_percen, nonR_men_percen)"
   ]
  },
  {
   "cell_type": "code",
   "execution_count": 16,
   "id": "e0829293",
   "metadata": {},
   "outputs": [
    {
     "name": "stdout",
     "output_type": "stream",
     "text": [
      "Statistic is: -5.210332597206581\n",
      "P-value is: 5.049055534410608e-07\n",
      "Effect size: -0.7673251380457575\n"
     ]
    }
   ],
   "source": [
    "#significance test for ratio of behavior description\n",
    "    \n",
    "R_ratio = group1['behavior_ratio']\n",
    "nonR_ratio = group2['behavior_ratio']\n",
    "    \n",
    "independent_2_ttest(R_ratio, nonR_ratio)"
   ]
  },
  {
   "cell_type": "code",
   "execution_count": null,
   "id": "50e9f84f",
   "metadata": {},
   "outputs": [],
   "source": [
    "#Summary\n",
    "#The difference in percentage of behavior descriptions from realist to non-realist novels is not statistically significant\n",
    "#The difference in percentage of mental content descriptions, and ratio of behavior description to mental content description, IS statistically significant\n",
    "#The change in percentage of mental content description is low-medium effect size (0.3) (realists use MORE mental contents to mental contents)\n",
    "#The change in ratio of behavior to mental contents shows medium-large effect size (realists use less behavavior description for every mental content description for their protagonists)"
   ]
  },
  {
   "cell_type": "code",
   "execution_count": null,
   "id": "22e9d410",
   "metadata": {},
   "outputs": [],
   "source": [
    "#Below are tests assessing changes across time in realist and non-realist novels PROTAGONISTS"
   ]
  },
  {
   "cell_type": "code",
   "execution_count": 18,
   "id": "c41232ca",
   "metadata": {},
   "outputs": [],
   "source": [
    "def linear_correlation(x,y):\n",
    "    from scipy.stats.stats import pearsonr\n",
    "    print(\"Correlation coefficient (R) is: \" + str((pearsonr(x,y)[0])))\n",
    "    print(\"P-value is: \" + str((pearsonr(x,y)[1])))\n",
    "    print(\"R2 is: \" + str((pearsonr(x,y)[0]) ** 2))"
   ]
  },
  {
   "cell_type": "code",
   "execution_count": 19,
   "id": "2f2cc44d",
   "metadata": {},
   "outputs": [
    {
     "name": "stdout",
     "output_type": "stream",
     "text": [
      "Correlation coefficient (R) is: 0.22209449936863965\n",
      "P-value is: 0.027953250345474894\n",
      "R2 is: 0.04932596664980668\n"
     ]
    }
   ],
   "source": [
    "#measure correlation of change in PERCENTAGE of BEHAVIOR description to publication year for REALIST PROTAGONISTS\n",
    "x = group1[\"pub-year\"]\n",
    "y = group1[\"behavior/total\"]\n",
    "\n",
    "linear_correlation(x,y)\n"
   ]
  },
  {
   "cell_type": "code",
   "execution_count": 20,
   "id": "a10aa260",
   "metadata": {},
   "outputs": [
    {
     "name": "stdout",
     "output_type": "stream",
     "text": [
      "Correlation coefficient (R) is: 0.14746358567828077\n",
      "P-value is: 0.17287646961560893\n",
      "R2 is: 0.021745509101095656\n"
     ]
    }
   ],
   "source": [
    "#measure correlation of change in PERCENTAGE of BEHAVIOR description to publication year for NON-REALIST protagonists\n",
    "x = group2[\"pub-year\"]\n",
    "y = group2[\"behavior/total\"]\n",
    "\n",
    "linear_correlation(x,y)"
   ]
  },
  {
   "cell_type": "code",
   "execution_count": 21,
   "id": "2f4915ba",
   "metadata": {},
   "outputs": [
    {
     "name": "stdout",
     "output_type": "stream",
     "text": [
      "Correlation coefficient (R) is: -0.09011139430620105\n",
      "P-value is: 0.37755584956586397\n",
      "R2 is: 0.008120063383807642\n"
     ]
    }
   ],
   "source": [
    "#measure correlation of change in PERCENTAGE of MENTAL CONTENT description to publication year for REALIST protagonists\n",
    "x = group1[\"pub-year\"]\n",
    "y = group1[\"mental/total\"]\n",
    "\n",
    "linear_correlation(x,y)"
   ]
  },
  {
   "cell_type": "code",
   "execution_count": 22,
   "id": "34e5a1b3",
   "metadata": {},
   "outputs": [
    {
     "name": "stdout",
     "output_type": "stream",
     "text": [
      "Correlation coefficient (R) is: 0.22334650644460818\n",
      "P-value is: 0.03757582074373947\n",
      "R2 is: 0.049883661941011403\n"
     ]
    }
   ],
   "source": [
    "#measure correlation of change in PERCENTAGE of MENTAL CONTENT description to publication year for NON-REALIST protagonists\n",
    "\n",
    "x = group2[\"pub-year\"]\n",
    "y = group2[\"mental/total\"]\n",
    "\n",
    "linear_correlation(x,y)"
   ]
  },
  {
   "cell_type": "code",
   "execution_count": 23,
   "id": "f4acffe2",
   "metadata": {},
   "outputs": [
    {
     "name": "stdout",
     "output_type": "stream",
     "text": [
      "Correlation coefficient (R) is: 0.3558306969602675\n",
      "P-value is: 0.0003234147548216473\n",
      "R2 is: 0.12661548489922972\n"
     ]
    }
   ],
   "source": [
    "#measure correlation of change in RATIO of BEHAVIOUR to MENTAL CONTENT description to publication year for REALIST protagonists\n",
    "x = group1[\"pub-year\"]\n",
    "y = group1[\"behavior_ratio\"]\n",
    "\n",
    "linear_correlation(x,y)"
   ]
  },
  {
   "cell_type": "code",
   "execution_count": 24,
   "id": "77082a4a",
   "metadata": {},
   "outputs": [
    {
     "name": "stdout",
     "output_type": "stream",
     "text": [
      "Correlation coefficient (R) is: -0.1919263000170913\n",
      "P-value is: 0.07493328285324695\n",
      "R2 is: 0.03683570463825054\n"
     ]
    }
   ],
   "source": [
    "#measure correlation of change in RATIO of BEHAVIOUR to MENTAL CONTENT description to publication year for NONREALIST protagonists\n",
    "x = group2[\"pub-year\"]\n",
    "y = group2[\"behavior_ratio\"]\n",
    "\n",
    "linear_correlation(x,y)"
   ]
  },
  {
   "cell_type": "code",
   "execution_count": null,
   "id": "aae633af",
   "metadata": {},
   "outputs": [],
   "source": []
  }
 ],
 "metadata": {
  "kernelspec": {
   "display_name": "Python 3 (ipykernel)",
   "language": "python",
   "name": "python3"
  },
  "language_info": {
   "codemirror_mode": {
    "name": "ipython",
    "version": 3
   },
   "file_extension": ".py",
   "mimetype": "text/x-python",
   "name": "python",
   "nbconvert_exporter": "python",
   "pygments_lexer": "ipython3",
   "version": "3.9.7"
  }
 },
 "nbformat": 4,
 "nbformat_minor": 5
}
