{
 "cells": [
  {
   "cell_type": "code",
   "execution_count": 1,
   "id": "fd51353e",
   "metadata": {},
   "outputs": [],
   "source": [
    "import pandas as pd\n",
    "import matplotlib as plt\n",
    "import seaborn as sns\n",
    "from scipy.stats import ttest_ind\n",
    "from sklearn.metrics import r2_score"
   ]
  },
  {
   "cell_type": "code",
   "execution_count": 2,
   "id": "00473e39",
   "metadata": {},
   "outputs": [],
   "source": [
    "time = pd.read_excel(\"(Graph 1) whole_novels.xlsx\")"
   ]
  },
  {
   "cell_type": "code",
   "execution_count": 3,
   "id": "72d1538e",
   "metadata": {},
   "outputs": [
    {
     "name": "stdout",
     "output_type": "stream",
     "text": [
      "                      Unnamed: 0                       author  \\\n",
      "0      ainsworth-auriol-1850.txt  Ainsworth, William Harrison   \n",
      "1    ainsworth-boscobel-1871.txt  Ainsworth, William Harrison   \n",
      "2     ainsworth-bourbon-1866.txt  Ainsworth, William Harrison   \n",
      "3    ainsworth-chetwynd-1876.txt  Ainsworth, William Harrison   \n",
      "4      ainsworth-fawkes-1841.txt  Ainsworth, William Harrison   \n",
      "..                           ...                          ...   \n",
      "633    yonge-telemachus-1886.txt             Yonge, Charlotte   \n",
      "634         yonge-trial-1864.txt             Yonge, Charlotte   \n",
      "635       yonge-unknown-1882.txt             Yonge, Charlotte   \n",
      "636      yonge-vacation-1895.txt             Yonge, Charlotte   \n",
      "637          yonge-wish-1850.txt             Yonge, Charlotte   \n",
      "\n",
      "                        title  pub-year pub-decade realist  word_count  \\\n",
      "0                      Auriol      1850  1850-1859      no       57698   \n",
      "1                    Boscobel      1871  1870-1879      no      160026   \n",
      "2    The Constable De Bourbon      1866  1860-1869      no      120097   \n",
      "3          Chetwynd Calverley      1876  1870-1879      no       95829   \n",
      "4                  Guy Fawkes      1841  1840-1849      no      164248   \n",
      "..                        ...       ...        ...     ...         ...   \n",
      "633     The Modern Telemachus      1886  1880-1889     NaN       59986   \n",
      "634                 The Trial      1864  1860-1869     NaN      178941   \n",
      "635        Unknown to History      1882  1880-1889     NaN      169474   \n",
      "636         The Long Vacation      1895  1890-1429     NaN       92602   \n",
      "637          Henrietta's Wish      1850  1850-1859     NaN       90079   \n",
      "\n",
      "     wordcount_nostops  behaviour  mental_contents  ratio_behaviour  \\\n",
      "0                27190        895              226         0.798394   \n",
      "1                83372       2801             1166         0.706075   \n",
      "2                63466       2063              449         0.821258   \n",
      "3                50595       2076              641         0.764078   \n",
      "4                84598       2948              689         0.810558   \n",
      "..                 ...        ...              ...              ...   \n",
      "633              28341        939              267         0.778607   \n",
      "634              87787       3579             1298         0.733853   \n",
      "635              85485       3027              784         0.794280   \n",
      "636              46018       1778              578         0.754669   \n",
      "637              43864       1794              636         0.738272   \n",
      "\n",
      "     ration_mc  %behaviour       %mc  \n",
      "0     0.201606    1.551180  0.391695  \n",
      "1     0.293925    1.750341  0.728632  \n",
      "2     0.178742    1.717778  0.373864  \n",
      "3     0.235922    2.166359  0.668900  \n",
      "4     0.189442    1.794847  0.419488  \n",
      "..         ...         ...       ...  \n",
      "633   0.221393    1.565365  0.445104  \n",
      "634   0.266147    2.000101  0.725379  \n",
      "635   0.205720    1.786115  0.462608  \n",
      "636   0.245331    1.920045  0.624177  \n",
      "637   0.261728    1.991585  0.706047  \n",
      "\n",
      "[638 rows x 14 columns]\n"
     ]
    }
   ],
   "source": [
    "print(time)"
   ]
  },
  {
   "cell_type": "code",
   "execution_count": 4,
   "id": "8f35b2e9",
   "metadata": {},
   "outputs": [
    {
     "data": {
      "text/plain": [
       "0"
      ]
     },
     "execution_count": 4,
     "metadata": {},
     "output_type": "execute_result"
    }
   ],
   "source": [
    "time[\"%behaviour\"].isna().sum()"
   ]
  },
  {
   "cell_type": "code",
   "execution_count": 43,
   "id": "cc14dfa5",
   "metadata": {},
   "outputs": [],
   "source": [
    "def linear_correlation(x,y):\n",
    "    from scipy.stats.stats import pearsonr\n",
    "    print(\"Correlation coefficient (R) is: \" + str((pearsonr(x,y)[0])))\n",
    "    print(\"P-value is: \" + str((pearsonr(x,y)[1])))\n",
    "    print(\"R2 is: \" + str((pearsonr(x,y)[0]) ** 2))"
   ]
  },
  {
   "cell_type": "code",
   "execution_count": 44,
   "id": "8fcf1187",
   "metadata": {},
   "outputs": [
    {
     "name": "stdout",
     "output_type": "stream",
     "text": [
      "Correlation coefficient (R) is: 0.35434147931914584\n",
      "P-value is: 2.609033409603149e-20\n",
      "R2 is: 0.12555788396608067\n"
     ]
    }
   ],
   "source": [
    "#measure correlation of change in percentage of behavior description to publication year\n",
    "x = time[\"pub-year\"]\n",
    "y = time[\"%behaviour\"]\n",
    "\n",
    "    \n",
    "linear_correlation(x,y)\n"
   ]
  },
  {
   "cell_type": "code",
   "execution_count": null,
   "id": "ddce71fa",
   "metadata": {},
   "outputs": [],
   "source": [
    "#Summary of tests for behavior description across time:\n",
    "# Statistically significant, low correlation, approx. 12% variance in dependent variable (behavior) explained by independent variable (time)"
   ]
  },
  {
   "cell_type": "code",
   "execution_count": 46,
   "id": "0efc1644",
   "metadata": {},
   "outputs": [
    {
     "name": "stdout",
     "output_type": "stream",
     "text": [
      "Correlation coefficient (R) is: 0.012052457212693294\n",
      "P-value is: 0.7612475146879191\n",
      "R2 is: 0.00014526172486380263\n"
     ]
    }
   ],
   "source": [
    "#measure correlation of change in percentage of mental content description to publication year\n",
    "x = time[\"pub-year\"]\n",
    "y = time[\"%mc\"]\n",
    "\n",
    "linear_correlation(x,y)"
   ]
  },
  {
   "cell_type": "code",
   "execution_count": null,
   "id": "91d12380",
   "metadata": {},
   "outputs": [],
   "source": [
    "#Summary of tests for percentage of mental contents across time\n",
    "#Not statistically significant"
   ]
  },
  {
   "cell_type": "code",
   "execution_count": 47,
   "id": "8a0f684d",
   "metadata": {},
   "outputs": [
    {
     "name": "stdout",
     "output_type": "stream",
     "text": [
      "Correlation coefficient (R) is: 0.1804339662407534\n",
      "P-value is: 4.51219721612275e-06\n",
      "R2 is: 0.03255641617336934\n"
     ]
    }
   ],
   "source": [
    "#measure correlation of change in ratio of behavior description to publication year\n",
    "x = time[\"pub-year\"]\n",
    "y = time[\"ratio_behaviour\"]\n",
    "\n",
    "linear_correlation(x,y)"
   ]
  },
  {
   "cell_type": "code",
   "execution_count": null,
   "id": "95efc15c",
   "metadata": {},
   "outputs": [],
   "source": [
    "#Summary of tests for percentage of mental contents across time\n",
    "#Not statistically significant"
   ]
  }
 ],
 "metadata": {
  "kernelspec": {
   "display_name": "Python 3 (ipykernel)",
   "language": "python",
   "name": "python3"
  },
  "language_info": {
   "codemirror_mode": {
    "name": "ipython",
    "version": 3
   },
   "file_extension": ".py",
   "mimetype": "text/x-python",
   "name": "python",
   "nbconvert_exporter": "python",
   "pygments_lexer": "ipython3",
   "version": "3.9.7"
  }
 },
 "nbformat": 4,
 "nbformat_minor": 5
}
